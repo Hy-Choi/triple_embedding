{
 "cells": [
  {
   "cell_type": "code",
   "execution_count": null,
   "metadata": {
    "collapsed": true
   },
   "outputs": [],
   "source": [
    "# "
   ]
  },
  {
   "cell_type": "code",
   "execution_count": 29,
   "metadata": {
    "collapsed": false,
    "scrolled": true
   },
   "outputs": [],
   "source": [
    "list_std = []\n",
    "list_univ = []\n",
    "with open(\"data/lubm/lubm_4\",\"r\") as f:\n",
    "    full = f.readlines()\n",
    "    for i in range(len(full)):\n",
    "        if \"UndergraduateStudent\" in full[i]:\n",
    "            if \"memberOf\" in full[i]:\n",
    "#                 print(full[i].split(\"memberOf\")[0], full[i].split(\"memberOf\")[1].split(\"\\n\")[0])\n",
    "#                 print (full[i].split(\" \")[0].split(\"UndergraduateStudent\")[1])\n",
    "                list_std.append(full[i].split(\"memberOf\")[0].strip())\n",
    "                list_univ.append(full[i].split(\"memberOf\")[1].split(\"\\n\")[0])\n",
    "                "
   ]
  },
  {
   "cell_type": "code",
   "execution_count": 29,
   "metadata": {
    "collapsed": true
   },
   "outputs": [],
   "source": [
    "import numpy as np"
   ]
  },
  {
   "cell_type": "code",
   "execution_count": 30,
   "metadata": {
    "collapsed": false
   },
   "outputs": [],
   "source": [
    "list_std2 = []\n",
    "list_Course = []\n",
    "with open(\"data/lubm/lubm_3\",\"r\") as f:\n",
    "    full = f.readlines()\n",
    "    for i in range(len(full)):\n",
    "        if \"UndergraduateStudent\" in full[i]:\n",
    "            if \"takesCourse\" in full[i]:\n",
    "#                 print(full[i])\n",
    "#                 print(full[i].split(\"takesCourse\")[1].split(\"\\n\")[0].strip())\n",
    "#                 print(full[i].split(\"takesCourse\")[0].strip())\n",
    "                list_std2.append(full[i].split(\"takesCourse\")[0].strip())\n",
    "                list_Course.append(full[i].split(\"takesCourse\")[1].split(\"\\n\")[0].strip())\n",
    "                "
   ]
  },
  {
   "cell_type": "code",
   "execution_count": 22,
   "metadata": {
    "collapsed": false
   },
   "outputs": [],
   "source": [
    "# ㅌㅌㅌㅌㅌㅌㅌㅌㅌㅌㅌㅌㅌㅌㅌㅌㅌㅌㅌㅌㅌㅌㅌㅌㅌㅌㅌㅌㅌㅌㅌㅌㅌㅌㅌㅌㅌㅌㅌㅌㅌㅌㅌㅌㅌㅌㅌ\n",
    "\n",
    "# print (len(list_std))\n",
    "with open(\"data/test_course.txt\",\"w\") as f:\n",
    "    for i in range(10):\n",
    "        for j in range(len(list_corse)):\n",
    "            if(list_corse[i] != list_corse[j]):\n",
    "                f.write(list_corse[j] + list_department[j] + list_corse[i] + list_department[i] + \"\\n\")\n"
   ]
  },
  {
   "cell_type": "code",
   "execution_count": null,
   "metadata": {
    "collapsed": true
   },
   "outputs": [],
   "source": []
  }
 ],
 "metadata": {
  "kernelspec": {
   "display_name": "Python 2",
   "language": "python",
   "name": "python2"
  },
  "language_info": {
   "codemirror_mode": {
    "name": "ipython",
    "version": 2
   },
   "file_extension": ".py",
   "mimetype": "text/x-python",
   "name": "python",
   "nbconvert_exporter": "python",
   "pygments_lexer": "ipython2",
   "version": "2.7.12"
  }
 },
 "nbformat": 4,
 "nbformat_minor": 2
}
